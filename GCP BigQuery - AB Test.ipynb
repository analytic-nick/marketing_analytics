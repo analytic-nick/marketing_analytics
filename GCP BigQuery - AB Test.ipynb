{
 "cells": [
  {
   "cell_type": "markdown",
   "id": "6e17b6ee",
   "metadata": {},
   "source": [
    "# A/B Test with BigQuery and GA4"
   ]
  },
  {
   "cell_type": "markdown",
   "id": "d61508c5",
   "metadata": {},
   "source": [
    "### Import Libraries"
   ]
  },
  {
   "cell_type": "code",
   "execution_count": 1,
   "id": "c0dbcafa",
   "metadata": {},
   "outputs": [],
   "source": [
    "# Basics\n",
    "import numpy as np\n",
    "import pandas as pd\n",
    "import warnings\n",
    "import os \n",
    "warnings.filterwarnings('ignore')\n",
    "\n",
    "# Connector to BigQuery\n",
    "from google.cloud import bigquery\n",
    "from google.oauth2 import service_account\n",
    "\n",
    "# A/B Test Analytics Libraries\n",
    "import scipy.stats as stats\n",
    "from scipy.stats import chi2_contingency\n",
    "from statsmodels.stats import proportion\n",
    "\n",
    "# Data Viz\n",
    "import matplotlib.pyplot as plt\n",
    "import seaborn as sns\n",
    "%matplotlib inline"
   ]
  },
  {
   "cell_type": "markdown",
   "id": "ea85743e",
   "metadata": {},
   "source": [
    "### Connect to bigquery"
   ]
  },
  {
   "cell_type": "code",
   "execution_count": 2,
   "id": "93a212b1",
   "metadata": {},
   "outputs": [],
   "source": [
    "#gcp service acount key\n",
    "os.environ['GOOGLE_APPLICATION_CREDENTIALS'] = 'C:/Users/charl\\OneDrive/Desktop/my-awesome-site-key.json'\n",
    "# initiates BQ service\n",
    "bigquery_client = bigquery.Client()"
   ]
  },
  {
   "cell_type": "code",
   "execution_count": 3,
   "id": "b0b4ad59",
   "metadata": {},
   "outputs": [],
   "source": [
    "QUERY = \"\"\"\n",
    "SELECT\n",
    " *\n",
    "FROM\n",
    "  `bigquery-public-data.ga4_obfuscated_sample_ecommerce.events_20210131`\n",
    "   WHERE user_pseudo_ID IS NOT NULL\n",
    "  \"\"\""
   ]
  },
  {
   "cell_type": "code",
   "execution_count": 4,
   "id": "ce39faf8",
   "metadata": {},
   "outputs": [],
   "source": [
    "#save bigquery results into pandas df\n",
    "Query_Results = bigquery_client.query(QUERY)\n",
    "df = Query_Results.to_dataframe()"
   ]
  },
  {
   "cell_type": "markdown",
   "id": "237123f2",
   "metadata": {},
   "source": [
    "### Data Prep"
   ]
  },
  {
   "cell_type": "code",
   "execution_count": 5,
   "id": "fd6e61e0",
   "metadata": {},
   "outputs": [],
   "source": [
    "df['purchase'] = np.where(df['event_name']!= 'purchase', 1, 0)"
   ]
  },
  {
   "cell_type": "code",
   "execution_count": 6,
   "id": "534f2789",
   "metadata": {},
   "outputs": [],
   "source": [
    "population_users=df[['user_pseudo_id', 'purchase']]\n",
    "population_users=population_users.groupby(['user_pseudo_id']).sum().reset_index()"
   ]
  },
  {
   "cell_type": "markdown",
   "id": "75df99bc",
   "metadata": {},
   "source": [
    "# A/B Test"
   ]
  },
  {
   "cell_type": "markdown",
   "id": "65aab193",
   "metadata": {},
   "source": [
    "### Step 1: Get Null Hypothesis\n",
    "\n",
    "* The null hypothesis is the claim that the effect being studied does not exist. \n",
    "\n",
    "* Type I error, or a false positive, is the rejection of the null hypothesis when it is actually true. \n",
    "\n",
    "* Type II error, or a false negative, is the failure to reject a null hypothesis that is actually false."
   ]
  },
  {
   "cell_type": "code",
   "execution_count": 7,
   "id": "1bebe48f",
   "metadata": {},
   "outputs": [],
   "source": [
    "#The null is the population mean does not change\n",
    "\n",
    "population_mean = population_users.purchase.mean()\n",
    "population_std = population_users.purchase.std()"
   ]
  },
  {
   "cell_type": "markdown",
   "id": "8778c2c2",
   "metadata": {},
   "source": [
    "### Step 2 Statistical Significance of Test\n",
    "\n",
    "Statistical significance refers to the claim that a set of observed data are not the result of chance but can instead be attributed to a specific cause.  \n",
    "\n",
    "Statistical Significance,Alpha, is the probability of rejecting the null hypothesis when the null hypothesis is true"
   ]
  },
  {
   "cell_type": "code",
   "execution_count": 8,
   "id": "fd65b6d1",
   "metadata": {},
   "outputs": [],
   "source": [
    "alpha=.05"
   ]
  },
  {
   "cell_type": "markdown",
   "id": "54164fb3",
   "metadata": {},
   "source": [
    "### Step 3 Power of Test\n",
    "\n",
    "Power is the likelihood of discovering an effect, provided that the effect exists. To put it another way, power is the likelihood of rejecting a false null hypothesis. "
   ]
  },
  {
   "cell_type": "code",
   "execution_count": 9,
   "id": "917862fc",
   "metadata": {},
   "outputs": [],
   "source": [
    "power_test = 0.8"
   ]
  },
  {
   "cell_type": "markdown",
   "id": "daa9613e",
   "metadata": {},
   "source": [
    "### Step 4 Effect Size of Test\n",
    "\n",
    "Effect Size represents the magnitude of difference between averages of test and control group. It is the variance in averages between test and control groups divided by the standard deviation of the control."
   ]
  },
  {
   "cell_type": "code",
   "execution_count": 11,
   "id": "fb8330a0",
   "metadata": {},
   "outputs": [],
   "source": [
    "target=12\n",
    "\n",
    "effect_size=(target-population_mean)/population_std"
   ]
  },
  {
   "cell_type": "markdown",
   "id": "b9167c59",
   "metadata": {},
   "source": [
    "### Step 5 Test Group Size"
   ]
  },
  {
   "cell_type": "code",
   "execution_count": 12,
   "id": "bbe96bf6",
   "metadata": {},
   "outputs": [],
   "source": [
    "test_size=.5\n",
    "ratio= (1-test_size)/test_size"
   ]
  },
  {
   "cell_type": "markdown",
   "id": "bcd70300",
   "metadata": {},
   "source": [
    "### Step 5 Sample Size of Test"
   ]
  },
  {
   "cell_type": "code",
   "execution_count": 13,
   "id": "d3f32162",
   "metadata": {},
   "outputs": [
    {
     "name": "stdout",
     "output_type": "stream",
     "text": [
      "1561.0429968972683\n"
     ]
    }
   ],
   "source": [
    "from statsmodels.stats import power\n",
    "ss_analysis = power.TTestIndPower()\n",
    "\n",
    "ss_result = ss_analysis.solve_power(effect_size=effect_size, power= power_test ,alpha=alpha, ratio=ratio, nobs1=None) \n",
    "print(ss_result)"
   ]
  },
  {
   "cell_type": "markdown",
   "id": "eb3842ae",
   "metadata": {},
   "source": [
    "### Step 6 Run the Test"
   ]
  },
  {
   "cell_type": "markdown",
   "id": "67a236e7",
   "metadata": {},
   "source": [
    "Get Total Population"
   ]
  },
  {
   "cell_type": "code",
   "execution_count": 14,
   "id": "ae8b6858",
   "metadata": {},
   "outputs": [],
   "source": [
    "population=df[['user_pseudo_id', 'purchase']]\n",
    "population=population.groupby(['user_pseudo_id']).sum().reset_index()\n",
    "\n",
    "#Assign random value to users\n",
    "population['index_col'] = population.index\n",
    "\n",
    "population['Sample']=\"Out of Sample\"\n",
    "population.loc[population.index_col <=(ss_result),'Sample'] = 'In Sample'"
   ]
  },
  {
   "cell_type": "markdown",
   "id": "4fdb37f8",
   "metadata": {},
   "source": [
    "Get Sample"
   ]
  },
  {
   "cell_type": "code",
   "execution_count": 15,
   "id": "38e2ab83",
   "metadata": {},
   "outputs": [],
   "source": [
    "#get sample\n",
    "sample=population[population[\"Sample\"] == 'In Sample']\n",
    "\n",
    "#test group size\n",
    "test_size=.5\n",
    "\n",
    "sample['Group']='Control'\n",
    "sample.loc[sample.index_col <=(ss_result*test_size),'Group'] = 'Test'"
   ]
  },
  {
   "cell_type": "markdown",
   "id": "ad1e2715",
   "metadata": {},
   "source": [
    "### Step 8 Statistical Inference"
   ]
  },
  {
   "cell_type": "markdown",
   "id": "66bd2ae1",
   "metadata": {},
   "source": [
    "* p-value : A p-value, or probability value, is a number describing how likely it is that your data would have occurred by random chance (i.e., that the null hypothesis is true)."
   ]
  },
  {
   "cell_type": "code",
   "execution_count": 16,
   "id": "733b1886",
   "metadata": {},
   "outputs": [],
   "source": [
    "test_results = sample[sample.Group == 'Test'].purchase.mean()\n",
    "control_results = sample[sample.Group == 'Control'].purchase.mean()\n",
    "\n",
    "test_std = sample[sample.Group == 'Test'].purchase.std()\n",
    "control_std = sample[sample.Group == 'Control'].purchase.std()"
   ]
  },
  {
   "cell_type": "markdown",
   "id": "4abc7396",
   "metadata": {},
   "source": [
    "z-test\n",
    "\n",
    "z-test is a statistical test used to determine whether two population means are different when the variances are known and the sample size is large(sample_size>30)."
   ]
  },
  {
   "cell_type": "code",
   "execution_count": 17,
   "id": "09dfee81",
   "metadata": {},
   "outputs": [
    {
     "name": "stdout",
     "output_type": "stream",
     "text": [
      "z-score is -0.023, with p-value 0.509\n"
     ]
    }
   ],
   "source": [
    "from scipy.stats import norm\n",
    "\n",
    "z_score = (test_results - control_results) / np.sqrt(test_std**2 + control_std**2)\n",
    "print(f\"z-score is {z_score:0.3f}, with p-value {norm().sf(z_score):0.3f}\")\n"
   ]
  },
  {
   "cell_type": "markdown",
   "id": "3bdd2f8e",
   "metadata": {},
   "source": [
    "2 Sample T-Test\n",
    "\n",
    "A t-test is an inferential statistic used to determine if there is a statistically significant difference between the means of two variables. 1 tail looks for a change in 1 direction, two tail t-test looks for a change in either direction"
   ]
  },
  {
   "cell_type": "code",
   "execution_count": 18,
   "id": "7da6d6c8",
   "metadata": {},
   "outputs": [
    {
     "name": "stdout",
     "output_type": "stream",
     "text": [
      "We fail to reject the null hypothesis\n"
     ]
    }
   ],
   "source": [
    "from scipy import stats\n",
    "\n",
    "t_stat, p_val = stats.ttest_ind(sample[sample.Group == 'Control'].purchase,\n",
    "                                sample[sample.Group == 'Test'].purchase) \n",
    "\n",
    "if p_val < 0.05:\n",
    "    print(\"We reject the null hypothesis\")\n",
    "else:\n",
    "    print(\"We fail to reject the null hypothesis\")  "
   ]
  },
  {
   "cell_type": "markdown",
   "id": "f2e0a51d",
   "metadata": {},
   "source": [
    "1 Sample T-Test"
   ]
  },
  {
   "cell_type": "code",
   "execution_count": 19,
   "id": "c441554d",
   "metadata": {},
   "outputs": [
    {
     "name": "stdout",
     "output_type": "stream",
     "text": [
      "-0.6838105401919836 0.494196301692688\n"
     ]
    }
   ],
   "source": [
    "# perform one sample t-test \n",
    "t_statistic, p_value = stats.ttest_1samp(a= sample.purchase, popmean=population_mean) \n",
    "print(t_statistic , p_value)"
   ]
  },
  {
   "cell_type": "code",
   "execution_count": null,
   "id": "0a9f4261",
   "metadata": {},
   "outputs": [],
   "source": []
  }
 ],
 "metadata": {
  "kernelspec": {
   "display_name": "Python 3 (ipykernel)",
   "language": "python",
   "name": "python3"
  },
  "language_info": {
   "codemirror_mode": {
    "name": "ipython",
    "version": 3
   },
   "file_extension": ".py",
   "mimetype": "text/x-python",
   "name": "python",
   "nbconvert_exporter": "python",
   "pygments_lexer": "ipython3",
   "version": "3.11.5"
  }
 },
 "nbformat": 4,
 "nbformat_minor": 5
}
