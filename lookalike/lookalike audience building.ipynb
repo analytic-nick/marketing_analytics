{
 "cells": [
  {
   "cell_type": "markdown",
   "id": "588907d1",
   "metadata": {},
   "source": [
    "## Set Up Environment"
   ]
  },
  {
   "cell_type": "code",
   "execution_count": 1,
   "id": "8f29ed23",
   "metadata": {},
   "outputs": [],
   "source": [
    "# Import packages and set random.seed to 2 for consistent results\n",
    "import numpy as np\n",
    "import pandas as pd\n",
    "import random\n",
    "random.seed(2)\n",
    "from sklearn.preprocessing import MinMaxScaler\n",
    "from sklearn.metrics.pairwise import pairwise_distances\n",
    "import matplotlib as mpl\n",
    "import matplotlib.pyplot as plt\n",
    "from matplotlib.colors import LinearSegmentedColormap\n",
    "mpl.rcParams['font.size'] = 9\n",
    "import math"
   ]
  },
  {
   "cell_type": "markdown",
   "id": "51484e70",
   "metadata": {},
   "source": [
    "## Create Dataset"
   ]
  },
  {
   "cell_type": "code",
   "execution_count": 2,
   "id": "ba7dd0fa",
   "metadata": {},
   "outputs": [
    {
     "data": {
      "text/html": [
       "<div>\n",
       "<style scoped>\n",
       "    .dataframe tbody tr th:only-of-type {\n",
       "        vertical-align: middle;\n",
       "    }\n",
       "\n",
       "    .dataframe tbody tr th {\n",
       "        vertical-align: top;\n",
       "    }\n",
       "\n",
       "    .dataframe thead th {\n",
       "        text-align: right;\n",
       "    }\n",
       "</style>\n",
       "<table border=\"1\" class=\"dataframe\">\n",
       "  <thead>\n",
       "    <tr style=\"text-align: right;\">\n",
       "      <th></th>\n",
       "      <th>User ID</th>\n",
       "      <th>User Email</th>\n",
       "      <th>Age</th>\n",
       "      <th>Age Group</th>\n",
       "      <th>Income % Group</th>\n",
       "      <th>Gender</th>\n",
       "      <th>Income %</th>\n",
       "      <th>Favorite Genre</th>\n",
       "      <th>Has Kids Profile?</th>\n",
       "    </tr>\n",
       "  </thead>\n",
       "  <tbody>\n",
       "    <tr>\n",
       "      <th>0</th>\n",
       "      <td>1</td>\n",
       "      <td>email1@domain.com</td>\n",
       "      <td>21</td>\n",
       "      <td>A18-24</td>\n",
       "      <td>0-20%</td>\n",
       "      <td>Male</td>\n",
       "      <td>11</td>\n",
       "      <td>Romance</td>\n",
       "      <td>No</td>\n",
       "    </tr>\n",
       "    <tr>\n",
       "      <th>1</th>\n",
       "      <td>2</td>\n",
       "      <td>email2@domain.com</td>\n",
       "      <td>23</td>\n",
       "      <td>A18-24</td>\n",
       "      <td>21-40%</td>\n",
       "      <td>Female</td>\n",
       "      <td>24</td>\n",
       "      <td>Romance</td>\n",
       "      <td>No</td>\n",
       "    </tr>\n",
       "    <tr>\n",
       "      <th>2</th>\n",
       "      <td>3</td>\n",
       "      <td>email3@domain.com</td>\n",
       "      <td>23</td>\n",
       "      <td>A18-24</td>\n",
       "      <td>0-20%</td>\n",
       "      <td>Female</td>\n",
       "      <td>16</td>\n",
       "      <td>Thriller</td>\n",
       "      <td>No</td>\n",
       "    </tr>\n",
       "    <tr>\n",
       "      <th>3</th>\n",
       "      <td>4</td>\n",
       "      <td>email4@domain.com</td>\n",
       "      <td>41</td>\n",
       "      <td>A35-44</td>\n",
       "      <td>21-40%</td>\n",
       "      <td>Male</td>\n",
       "      <td>25</td>\n",
       "      <td>Romance</td>\n",
       "      <td>No</td>\n",
       "    </tr>\n",
       "    <tr>\n",
       "      <th>4</th>\n",
       "      <td>5</td>\n",
       "      <td>email5@domain.com</td>\n",
       "      <td>28</td>\n",
       "      <td>A25-34</td>\n",
       "      <td>41-60%</td>\n",
       "      <td>Male</td>\n",
       "      <td>47</td>\n",
       "      <td>Comedy</td>\n",
       "      <td>No</td>\n",
       "    </tr>\n",
       "  </tbody>\n",
       "</table>\n",
       "</div>"
      ],
      "text/plain": [
       "   User ID         User Email  Age Age Group Income % Group  Gender  Income %  \\\n",
       "0        1  email1@domain.com   21    A18-24          0-20%    Male        11   \n",
       "1        2  email2@domain.com   23    A18-24         21-40%  Female        24   \n",
       "2        3  email3@domain.com   23    A18-24          0-20%  Female        16   \n",
       "3        4  email4@domain.com   41    A35-44         21-40%    Male        25   \n",
       "4        5  email5@domain.com   28    A25-34         41-60%    Male        47   \n",
       "\n",
       "  Favorite Genre Has Kids Profile?  \n",
       "0        Romance                No  \n",
       "1        Romance                No  \n",
       "2       Thriller                No  \n",
       "3        Romance                No  \n",
       "4         Comedy                No  "
      ]
     },
     "execution_count": 2,
     "metadata": {},
     "output_type": "execute_result"
    }
   ],
   "source": [
    "# Create a Netflix table/DataFrame that represents the population of Netflix users in the ad tier\n",
    "# Include demographic data (gender, age, income %) and content viewing data (favorite genre, has kids profile [yes/no])\n",
    "random.seed(2)\n",
    "\n",
    "netflix_pop = 1000\n",
    "user_id = list(range(1,netflix_pop+1))\n",
    "user_email = [f\"email{i}@domain.com\" for i in range(1,netflix_pop+1)]\n",
    "\n",
    "age = [random.randint(18, 70) for i in range(netflix_pop)]\n",
    "gender = [random.choice([\"Male\", \"Female\"]) for i in range (netflix_pop)]\n",
    "income_pct = [int(max(1, min(val, 100))) for val in [age_val * random.uniform(0.5, 1.5) + np.random.normal(0, 10) for age_val in age]] # Income % is positively correlated with age\n",
    "\n",
    "genres = [\"Thriller\", \"Comedy\", \"Romance\", \"Horror\",\n",
    "          \"Drama\", \"Sci-Fi\", \"Talk Show\", \"Reality\"]\n",
    "favorite_genre = [random.choice(genres) for i in range (netflix_pop)]\n",
    "has_kids_profile = [random.choice([\"No\",\"Yes\"]) for i in range (netflix_pop)]\n",
    "\n",
    "netflix_users_df = pd.DataFrame({\n",
    "    \"User ID\":user_id,\n",
    "    \"User Email\":user_email,\n",
    "    \"Age\":age,\n",
    "    \"Gender\":gender,\n",
    "    \"Income %\":income_pct,\n",
    "    \"Favorite Genre\":favorite_genre,\n",
    "    \"Has Kids Profile?\":has_kids_profile})\n",
    "netflix_user_ids = netflix_users_df['User ID'].tolist()\n",
    "\n",
    "# Create 'Age Group' column and move it next to other demographic columns\n",
    "bins = [18, 25, 35, 45, 55, 65, float('inf')]\n",
    "labels = ['A18-24', 'A25-34', 'A35-44', 'A45-54', 'A55-64', 'A65+']\n",
    "netflix_users_df['Age Group'] = pd.cut(netflix_users_df['Age'], bins=bins, labels=labels, right=False)\n",
    "age_group_column = netflix_users_df.pop(\"Age Group\")\n",
    "netflix_users_df.insert(3, \"Age Group\", age_group_column)\n",
    "\n",
    "bins = [1, 20, 40, 60, 80, float('inf')]\n",
    "labels = ['0-20%', '21-40%', '41-60%', '61-80%', '81-100%']\n",
    "netflix_users_df['Income % Group'] = pd.cut(netflix_users_df['Income %'], bins=bins, labels=labels, right=False)\n",
    "age_group_column = netflix_users_df.pop('Income % Group')\n",
    "netflix_users_df.insert(4, 'Income % Group', age_group_column)\n",
    "\n",
    "# Retain all \"Favorite Genre\" category values so they are all visible in bar plots after being subsetted\n",
    "netflix_users_df['Favorite Genre'] = pd.Categorical(netflix_users_df['Favorite Genre'], categories=genres)\n",
    "\n",
    "# Assume that Netflix users don't have a kids profile if age <30 (younger users less likely to be parents)\n",
    "netflix_users_df.loc[netflix_users_df['Age'] < 30, 'Has Kids Profile?'] = \"No\"\n",
    "\n",
    "# Display first five rows of Netflix user table\n",
    "netflix_users_df.head()"
   ]
  },
  {
   "cell_type": "markdown",
   "id": "1038e84e",
   "metadata": {},
   "source": [
    "## DataExploration "
   ]
  },
  {
   "cell_type": "markdown",
   "id": "3cbf3000",
   "metadata": {},
   "source": [
    "### Identify Source Audience "
   ]
  },
  {
   "cell_type": "code",
   "execution_count": 3,
   "id": "49781830",
   "metadata": {},
   "outputs": [],
   "source": [
    "top_spenders = ['email570@domain.com', 'email222@domain.com', 'email811@domain.com', 'email610@domain.com', 'email649@domain.com']        \n"
   ]
  },
  {
   "cell_type": "markdown",
   "id": "1f208385",
   "metadata": {},
   "source": [
    "### Identify Key Atttributes"
   ]
  },
  {
   "cell_type": "code",
   "execution_count": 4,
   "id": "91c7b6ef",
   "metadata": {},
   "outputs": [],
   "source": [
    "# Define feature columns\n",
    "numeric_columns = ['Age', 'Income %']\n",
    "binary_columns = ['Gender_Female', 'Has Kids Profile?_Yes']\n",
    "fave_genre_columns = ['Favorite Genre_Comedy',\n",
    "                            'Favorite Genre_Romance', 'Favorite Genre_Horror',\n",
    "                            'Favorite Genre_Drama', 'Favorite Genre_Sci-Fi',\n",
    "                            'Favorite Genre_Talk Show', 'Favorite Genre_Reality',]"
   ]
  },
  {
   "cell_type": "markdown",
   "id": "86c9c360",
   "metadata": {},
   "source": [
    " ### Create Dummie varaibles for Categorical Variables"
   ]
  },
  {
   "cell_type": "code",
   "execution_count": 5,
   "id": "c53a6110",
   "metadata": {},
   "outputs": [],
   "source": [
    "# Convert nominal data (gender, favorite genre, has kids profile?) into dummies. Keep N-1 dummies for N category values to prevent multicollinearity\n",
    "dummies = pd.get_dummies(netflix_users_df[['Gender', 'Favorite Genre', 'Has Kids Profile?']])\n",
    "dummies.drop(columns=['Gender_Male', 'Favorite Genre_Thriller', 'Has Kids Profile?_No'], inplace=True, axis=1)\n",
    "\n",
    "# Concatenate the original netflix_user table with the dummies\n",
    "netflix_users_df = pd.concat([netflix_users_df, dummies], axis=1)"
   ]
  },
  {
   "cell_type": "markdown",
   "id": "9030ad81",
   "metadata": {},
   "source": [
    "#### Normalize Numerical Variables"
   ]
  },
  {
   "cell_type": "code",
   "execution_count": 6,
   "id": "244ed043",
   "metadata": {},
   "outputs": [],
   "source": [
    "# Initialize MinMaxScaler\n",
    "scaler = MinMaxScaler()\n",
    "\n",
    "# Normalize 'Age' and 'Income %' features in both tables before comparing them\n",
    "netflix_users_df_normalized = netflix_users_df.copy()\n",
    "netflix_users_df_normalized[numeric_columns] = scaler.fit_transform(netflix_users_df_normalized[numeric_columns])"
   ]
  },
  {
   "cell_type": "markdown",
   "id": "7251e186",
   "metadata": {},
   "source": [
    "# Identify Source Audience"
   ]
  },
  {
   "cell_type": "code",
   "execution_count": 7,
   "id": "7a3d7421",
   "metadata": {},
   "outputs": [],
   "source": [
    "# Identify the T-Moneybagz top spenders within Netflix's user table. Create a source audience containing the T-Moneybagz top spenders\n",
    "source_audience_df = netflix_users_df[netflix_users_df['User Email'].isin(top_spenders)]\n",
    "source_audience_ids = source_audience_df['User ID'].tolist()\n"
   ]
  },
  {
   "cell_type": "markdown",
   "id": "74cffcd9",
   "metadata": {},
   "source": [
    "# Look-a-like Model"
   ]
  },
  {
   "cell_type": "markdown",
   "id": "2edf34ab",
   "metadata": {},
   "source": [
    "### Calculate Distances"
   ]
  },
  {
   "cell_type": "code",
   "execution_count": 8,
   "id": "33517545",
   "metadata": {},
   "outputs": [],
   "source": [
    "# Calculate pairwise distances using Euclidean distance for 'Age' and 'Income %' features and Cosine similarity for Gender, Favorite Genre, and Has Kids Profile? features\n",
    "euclidean_distances_matrix = pairwise_distances(netflix_users_df[numeric_columns],\n",
    "                                                source_audience_df[numeric_columns],\n",
    "                                                metric='euclidean')\n",
    "\n",
    "cosine_binary_columns_distances_matrix = pairwise_distances(netflix_users_df[binary_columns],\n",
    "                                             source_audience_df[binary_columns],\n",
    "                                             metric='cosine')\n",
    "\n",
    "cosine_fave_genre_columns_distances_matrix = pairwise_distances(netflix_users_df[fave_genre_columns],\n",
    "                                             source_audience_df[fave_genre_columns],\n",
    "                                             metric='cosine')\n",
    "\n",
    "\n",
    "# Combine the distances matrices with custom weightings based on domain expertise\n",
    "combined_distances_matrix = (euclidean_distances_matrix * .8\n",
    "                             + cosine_binary_columns_distances_matrix * .1\n",
    "                             + cosine_fave_genre_columns_distances_matrix * .1)"
   ]
  },
  {
   "cell_type": "code",
   "execution_count": 9,
   "id": "0a1144a8",
   "metadata": {},
   "outputs": [],
   "source": [
    "### Calculate look a like score from weighted distances"
   ]
  },
  {
   "cell_type": "code",
   "execution_count": 10,
   "id": "e09060ed",
   "metadata": {},
   "outputs": [],
   "source": [
    "# Create Lookalike Score columns in Netflix user table indicating how similar each Netflix user is to a source audience. Don't\n",
    "lal_score = []\n",
    "age_income_lal_score = []\n",
    "\n",
    "for i, user_id in enumerate(netflix_user_ids):\n",
    "    lal_score.append(min(combined_distances_matrix[i]))\n",
    "netflix_users_df['Lookalike Score'] = lal_score\n",
    "\n",
    "age_income_lal_score = []\n",
    "for i, user_id in enumerate(netflix_user_ids):\n",
    "    age_income_lal_score.append(min(euclidean_distances_matrix[i]))\n",
    "netflix_users_df['Age Income Lookalike Score'] = age_income_lal_score\n",
    "\n",
    "# Sort the Netflix table by user similarity. Lower values = greater similarity\n",
    "netflix_users_df = netflix_users_df.sort_values(by='Lookalike Score')"
   ]
  },
  {
   "cell_type": "markdown",
   "id": "9451d73e",
   "metadata": {},
   "source": [
    "# Identify Lookalike Audience"
   ]
  },
  {
   "cell_type": "markdown",
   "id": "8aa7c86e",
   "metadata": {},
   "source": [
    "### Get List of total Target Population"
   ]
  },
  {
   "cell_type": "code",
   "execution_count": 11,
   "id": "e137bdf4",
   "metadata": {},
   "outputs": [],
   "source": [
    "# Create a copy of the Netflix user table with the source audience values removed\n",
    "netflix_users_no_source_audience_df = netflix_users_df.tail(-len(source_audience_ids))\n",
    "\n",
    "# For illustrative purposes, create an example lookalike audience that only looks for similarities in age and income\n",
    "netflix_users_no_source_audience_df = netflix_users_no_source_audience_df.sort_values('Age Income Lookalike Score')\n",
    "age_income_lal_df = netflix_users_no_source_audience_df.head(100)"
   ]
  },
  {
   "cell_type": "markdown",
   "id": "8d9312c5",
   "metadata": {},
   "source": [
    "### Visualize"
   ]
  },
  {
   "cell_type": "code",
   "execution_count": 12,
   "id": "fb93b24a",
   "metadata": {},
   "outputs": [
    {
     "data": {
      "image/png": "[encoded data removed]",
      "text/plain": [
       "<Figure size 640x480 with 1 Axes>"
      ]
     },
     "metadata": {},
     "output_type": "display_data"
    }
   ],
   "source": [
    "#plot user population\n",
    "plt.scatter(netflix_users_df['Age'], netflix_users_df['Income %'], color = (178/255, 7/255, 16/255), label = 'Netflix User Population')\n",
    "#plot lal population\n",
    "plt.scatter(age_income_lal_df['Age'], age_income_lal_df['Income %'], color = (93/255, 187/255, 187/255), label = 'Lookalike Audience')\n",
    "#plot source audience population\n",
    "plt.scatter(source_audience_df['Age'], source_audience_df['Income %'], color = 'blue', label = 'Source Audience')\n",
    "\n",
    "handles, labels = plt.gca().get_legend_handles_labels()\n",
    "plt.legend(reversed(handles), reversed(labels))\n",
    "\n",
    "# Label the axes\n",
    "plt.xlabel('Age')\n",
    "plt.ylabel('Income %')\n",
    "\n",
    "# Show the plot\n",
    "plt.show()"
   ]
  }
 ],
 "metadata": {
  "kernelspec": {
   "display_name": "Python 3 (ipykernel)",
   "language": "python",
   "name": "python3"
  },
  "language_info": {
   "codemirror_mode": {
    "name": "ipython",
    "version": 3
   },
   "file_extension": ".py",
   "mimetype": "text/x-python",
   "name": "python",
   "nbconvert_exporter": "python",
   "pygments_lexer": "ipython3",
   "version": "3.11.5"
  }
 },
 "nbformat": 4,
 "nbformat_minor": 5
}
