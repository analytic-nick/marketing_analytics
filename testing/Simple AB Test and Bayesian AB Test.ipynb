{
 "cells": [
  {
   "cell_type": "markdown",
   "id": "6725baf2",
   "metadata": {},
   "source": [
    "Simple A/b Test\n",
    "https://medium.com/@panData/learn-how-to-perform-a-b-tests-in-python-6e3cdc00f6a9#:~:text=A%2FB%20tests%20are%20an,conversions%20or%20website%20dwell%20time."
   ]
  },
  {
   "cell_type": "markdown",
   "id": "38bf7f62",
   "metadata": {},
   "source": [
    "Step 1 - Data Collection"
   ]
  },
  {
   "cell_type": "code",
   "execution_count": 1,
   "id": "8e2fa1b4",
   "metadata": {},
   "outputs": [],
   "source": [
    "import numpy as np\n"
   ]
  },
  {
   "cell_type": "code",
   "execution_count": 2,
   "id": "91834bfe",
   "metadata": {},
   "outputs": [],
   "source": [
    "# Generating the data\n",
    "version_A = np.random.normal(loc=10, scale=2, size=1000)\n",
    "version_B = np.random.normal(loc=12, scale=2, size=1000)"
   ]
  },
  {
   "cell_type": "code",
   "execution_count": 14,
   "id": "8fa2ce25",
   "metadata": {},
   "outputs": [
    {
     "data": {
      "image/png": "[encoded data removed]",
      "text/plain": [
       "<Figure size 640x480 with 1 Axes>"
      ]
     },
     "metadata": {},
     "output_type": "display_data"
    }
   ],
   "source": [
    "# Plotting the data\n",
    "plt.hist(version_A, alpha=0.5, label='Version A')\n",
    "plt.hist(version_B, alpha=0.5, label='Version B')\n",
    "plt.axvline(mean_A, color='r', linestyle='dashed', linewidth=1)\n",
    "plt.axvline(mean_B, color='b', linestyle='dashed', linewidth=1)\n",
    "plt.legend(loc='upper right')\n",
    "plt.show()"
   ]
  },
  {
   "cell_type": "markdown",
   "id": "60d9e05b",
   "metadata": {},
   "source": [
    "Step 2 - Perform A/B test"
   ]
  },
  {
   "cell_type": "code",
   "execution_count": 15,
   "id": "d795f767",
   "metadata": {},
   "outputs": [
    {
     "name": "stdout",
     "output_type": "stream",
     "text": [
      "t = -23.693\n",
      "p = 0.000\n"
     ]
    }
   ],
   "source": [
    "from scipy.stats import ttest_ind\n",
    "# Performing the t-test\n",
    "t, p = ttest_ind(version_A, version_B)\n",
    "\n",
    "# Printing the result\n",
    "print(f\"t = {t:.3f}\")\n",
    "print(f\"p = {p:.3f}\")"
   ]
  },
  {
   "cell_type": "markdown",
   "id": "0a5db069",
   "metadata": {},
   "source": [
    "# Bayesian A/b"
   ]
  },
  {
   "cell_type": "code",
   "execution_count": 16,
   "id": "1164d0d5",
   "metadata": {},
   "outputs": [],
   "source": [
    "from scipy.stats import beta\n",
    "import numpy as np\n",
    "from math import lgamma\n",
    "from numba import jit\n",
    "import matplotlib.pyplot as plt"
   ]
  },
  {
   "cell_type": "markdown",
   "id": "1ce1bca2",
   "metadata": {},
   "source": [
    "defining the functions used"
   ]
  },
  {
   "cell_type": "code",
   "execution_count": 17,
   "id": "c61939a9",
   "metadata": {},
   "outputs": [
    {
     "name": "stderr",
     "output_type": "stream",
     "text": [
      "C:\\Users\\charl\\AppData\\Local\\Temp\\ipykernel_22916\\1805335027.py:1: NumbaDeprecationWarning: \u001b[1mThe 'nopython' keyword argument was not supplied to the 'numba.jit' decorator. The implicit default value for this argument is currently False, but it will be changed to True in Numba 0.59.0. See https://numba.readthedocs.io/en/stable/reference/deprecation.html#deprecation-of-object-mode-fall-back-behaviour-when-using-jit for details.\u001b[0m\n",
      "  @jit\n",
      "C:\\Users\\charl\\AppData\\Local\\Temp\\ipykernel_22916\\1805335027.py:7: NumbaDeprecationWarning: \u001b[1mThe 'nopython' keyword argument was not supplied to the 'numba.jit' decorator. The implicit default value for this argument is currently False, but it will be changed to True in Numba 0.59.0. See https://numba.readthedocs.io/en/stable/reference/deprecation.html#deprecation-of-object-mode-fall-back-behaviour-when-using-jit for details.\u001b[0m\n",
      "  @jit\n",
      "C:\\Users\\charl\\AppData\\Local\\Temp\\ipykernel_22916\\1805335027.py:11: NumbaDeprecationWarning: \u001b[1mThe 'nopython' keyword argument was not supplied to the 'numba.jit' decorator. The implicit default value for this argument is currently False, but it will be changed to True in Numba 0.59.0. See https://numba.readthedocs.io/en/stable/reference/deprecation.html#deprecation-of-object-mode-fall-back-behaviour-when-using-jit for details.\u001b[0m\n",
      "  @jit\n"
     ]
    }
   ],
   "source": [
    "@jit\n",
    "def h(a, b, c, d):\n",
    "    num = lgamma(a + c) + lgamma(b + d) + lgamma(a + b) + lgamma(c + d)\n",
    "    den = lgamma(a) + lgamma(b) + lgamma(c) + lgamma(d) + lgamma(a + b + c + d)\n",
    "    return np.exp(num - den)\n",
    "\n",
    "@jit\n",
    "def g0(a, b, c):    \n",
    "    return np.exp(lgamma(a + b) + lgamma(a + c) - (lgamma(a + b + c) + lgamma(a)))\n",
    "\n",
    "@jit\n",
    "def hiter(a, b, c, d):\n",
    "    while d > 1:\n",
    "        d -= 1\n",
    "        yield h(a, b, c, d) / d\n",
    "\n",
    "def g(a, b, c, d):\n",
    "    return g0(a, b, c) + sum(hiter(a, b, c, d))\n",
    "\n",
    "def calc_prob_between(beta1, beta2):\n",
    "    return g(beta1.args[0], beta1.args[1], beta2.args[0], beta2.args[1])"
   ]
  },
  {
   "cell_type": "markdown",
   "id": "884e3069",
   "metadata": {},
   "source": [
    "Data Collection - load campaign results"
   ]
  },
  {
   "cell_type": "code",
   "execution_count": 18,
   "id": "34f72be6",
   "metadata": {},
   "outputs": [],
   "source": [
    "#This is the known data: imporessions and conversions for the Control and Test set\n",
    "imps_ctrl,convs_ctrl=16500, 30 \n",
    "imps_test, convs_test=17000, 50"
   ]
  },
  {
   "cell_type": "markdown",
   "id": "5a5d41d1",
   "metadata": {},
   "source": [
    "Beta Functions"
   ]
  },
  {
   "cell_type": "code",
   "execution_count": 19,
   "id": "72f3754b",
   "metadata": {},
   "outputs": [],
   "source": [
    "#here we create the Beta functions for the two sets\n",
    "a_C, b_C = convs_ctrl+1, imps_ctrl-convs_ctrl+1\n",
    "beta_C = beta(a_C, b_C)\n",
    "a_T, b_T = convs_test+1, imps_test-convs_test+1\n",
    "beta_T = beta(a_T, b_T)"
   ]
  },
  {
   "cell_type": "markdown",
   "id": "0842c544",
   "metadata": {},
   "source": [
    "calculating the lift"
   ]
  },
  {
   "cell_type": "code",
   "execution_count": 20,
   "id": "1bb0c783",
   "metadata": {},
   "outputs": [
    {
     "data": {
      "text/plain": [
       "0.5967798854783688"
      ]
     },
     "execution_count": 20,
     "metadata": {},
     "output_type": "execute_result"
    }
   ],
   "source": [
    "\n",
    "lift=(beta_T.mean()-beta_C.mean())/beta_C.mean()\n",
    "lift"
   ]
  },
  {
   "cell_type": "markdown",
   "id": "d91413bb",
   "metadata": {},
   "source": [
    "calculating the probability for Test to be better than Control\n"
   ]
  },
  {
   "cell_type": "code",
   "execution_count": 21,
   "id": "b0f6a34c",
   "metadata": {},
   "outputs": [
    {
     "name": "stdout",
     "output_type": "stream",
     "text": [
      "Test option lift Conversion Rates by 59.68% with 98.2% probability.\n"
     ]
    }
   ],
   "source": [
    "prob=calc_prob_between(beta_T, beta_C)\n",
    "\n",
    "print (f\"Test option lift Conversion Rates by {lift*100:2.2f}% with {prob*100:2.1f}% probability.\")\n"
   ]
  }
 ],
 "metadata": {
  "kernelspec": {
   "display_name": "Python 3 (ipykernel)",
   "language": "python",
   "name": "python3"
  },
  "language_info": {
   "codemirror_mode": {
    "name": "ipython",
    "version": 3
   },
   "file_extension": ".py",
   "mimetype": "text/x-python",
   "name": "python",
   "nbconvert_exporter": "python",
   "pygments_lexer": "ipython3",
   "version": "3.11.5"
  }
 },
 "nbformat": 4,
 "nbformat_minor": 5
}
