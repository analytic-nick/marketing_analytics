{
 "cells": [
  {
   "cell_type": "markdown",
   "id": "fcf9e07b",
   "metadata": {},
   "source": [
    "# Marketing mix model\n",
    "Using statsmodels to model, optimize, and forecast"
   ]
  },
  {
   "cell_type": "markdown",
   "id": "937de9e3",
   "metadata": {},
   "source": [
    "## Data Collection and Preparation"
   ]
  },
  {
   "cell_type": "code",
   "execution_count": 1,
   "id": "4b79dceb",
   "metadata": {},
   "outputs": [],
   "source": [
    "import pandas as pd\n",
    "\n",
    "# Load data\n",
    "df=pd.read_csv(r'C:\\Users\\charl\\OneDrive\\Desktop\\nick notes 2024\\data\\mmm_data.csv',sep =',')"
   ]
  },
  {
   "cell_type": "markdown",
   "id": "5531ebc8",
   "metadata": {},
   "source": [
    "## Model Selection"
   ]
  },
  {
   "cell_type": "code",
   "execution_count": 2,
   "id": "095765c4",
   "metadata": {},
   "outputs": [],
   "source": [
    "# get media spending\n",
    "mdsp_cols=[col for col in df.columns if 'mdsp_' in col]"
   ]
  },
  {
   "cell_type": "markdown",
   "id": "1848df28",
   "metadata": {},
   "source": [
    "build two datasets\n",
    "‘X’ contains information on advertising spending while ‘y’ holds data on sales\n",
    "\n",
    "To create our predictive model, we incorporate an essential component using ‘sm.add_constant(X) understand where sales start from when we’re not advertising... a sales baseline in absence of sales"
   ]
  },
  {
   "cell_type": "code",
   "execution_count": 3,
   "id": "01aeae72",
   "metadata": {},
   "outputs": [],
   "source": [
    "import statsmodels.api as sm\n",
    "\n",
    "# Create model\n",
    "X = df[['mdsp_vidtr', 'mdsp_on', 'mdsp_audtr']]\n",
    "y = df['sales']\n",
    "X = sm.add_constant(X)  # Add a constant for the intercept"
   ]
  },
  {
   "cell_type": "markdown",
   "id": "a8143de9",
   "metadata": {},
   "source": [
    "## Training the Model"
   ]
  },
  {
   "cell_type": "markdown",
   "id": "58b984ad",
   "metadata": {},
   "source": [
    "sm.OLS(y, X): sets up a linear regression model where Y represents the variable you want to predict \n",
    ".fit(): actually fits the model to our data, which means it calculates the best-fit line that represents the relationship between our predictors\n",
    "model.summary()"
   ]
  },
  {
   "cell_type": "code",
   "execution_count": 4,
   "id": "2381e3db",
   "metadata": {},
   "outputs": [
    {
     "data": {
      "text/html": [
       "<table class=\"simpletable\">\n",
       "<caption>OLS Regression Results</caption>\n",
       "<tr>\n",
       "  <th>Dep. Variable:</th>          <td>sales</td>      <th>  R-squared:         </th> <td>   0.456</td>\n",
       "</tr>\n",
       "<tr>\n",
       "  <th>Model:</th>                   <td>OLS</td>       <th>  Adj. R-squared:    </th> <td>   0.448</td>\n",
       "</tr>\n",
       "<tr>\n",
       "  <th>Method:</th>             <td>Least Squares</td>  <th>  F-statistic:       </th> <td>   57.27</td>\n",
       "</tr>\n",
       "<tr>\n",
       "  <th>Date:</th>             <td>Fri, 24 May 2024</td> <th>  Prob (F-statistic):</th> <td>6.21e-27</td>\n",
       "</tr>\n",
       "<tr>\n",
       "  <th>Time:</th>                 <td>19:29:24</td>     <th>  Log-Likelihood:    </th> <td> -3955.9</td>\n",
       "</tr>\n",
       "<tr>\n",
       "  <th>No. Observations:</th>      <td>   209</td>      <th>  AIC:               </th> <td>   7920.</td>\n",
       "</tr>\n",
       "<tr>\n",
       "  <th>Df Residuals:</th>          <td>   205</td>      <th>  BIC:               </th> <td>   7933.</td>\n",
       "</tr>\n",
       "<tr>\n",
       "  <th>Df Model:</th>              <td>     3</td>      <th>                     </th>     <td> </td>   \n",
       "</tr>\n",
       "<tr>\n",
       "  <th>Covariance Type:</th>      <td>nonrobust</td>    <th>                     </th>     <td> </td>   \n",
       "</tr>\n",
       "</table>\n",
       "<table class=\"simpletable\">\n",
       "<tr>\n",
       "       <td></td>         <th>coef</th>     <th>std err</th>      <th>t</th>      <th>P>|t|</th>  <th>[0.025</th>    <th>0.975]</th>  \n",
       "</tr>\n",
       "<tr>\n",
       "  <th>const</th>      <td> 6.679e+07</td> <td> 7.24e+06</td> <td>    9.225</td> <td> 0.000</td> <td> 5.25e+07</td> <td> 8.11e+07</td>\n",
       "</tr>\n",
       "<tr>\n",
       "  <th>mdsp_vidtr</th> <td>  194.5686</td> <td>   22.564</td> <td>    8.623</td> <td> 0.000</td> <td>  150.082</td> <td>  239.055</td>\n",
       "</tr>\n",
       "<tr>\n",
       "  <th>mdsp_on</th>    <td>   74.3041</td> <td>   27.124</td> <td>    2.739</td> <td> 0.007</td> <td>   20.826</td> <td>  127.782</td>\n",
       "</tr>\n",
       "<tr>\n",
       "  <th>mdsp_audtr</th> <td>  -61.0892</td> <td>   49.578</td> <td>   -1.232</td> <td> 0.219</td> <td> -158.837</td> <td>   36.659</td>\n",
       "</tr>\n",
       "</table>\n",
       "<table class=\"simpletable\">\n",
       "<tr>\n",
       "  <th>Omnibus:</th>       <td>43.666</td> <th>  Durbin-Watson:     </th> <td>   2.154</td>\n",
       "</tr>\n",
       "<tr>\n",
       "  <th>Prob(Omnibus):</th> <td> 0.000</td> <th>  Jarque-Bera (JB):  </th> <td>  92.168</td>\n",
       "</tr>\n",
       "<tr>\n",
       "  <th>Skew:</th>          <td> 0.986</td> <th>  Prob(JB):          </th> <td>9.68e-21</td>\n",
       "</tr>\n",
       "<tr>\n",
       "  <th>Kurtosis:</th>      <td> 5.588</td> <th>  Cond. No.          </th> <td>9.01e+05</td>\n",
       "</tr>\n",
       "</table><br/><br/>Notes:<br/>[1] Standard Errors assume that the covariance matrix of the errors is correctly specified.<br/>[2] The condition number is large, 9.01e+05. This might indicate that there are<br/>strong multicollinearity or other numerical problems."
      ],
      "text/latex": [
       "\\begin{center}\n",
       "\\begin{tabular}{lclc}\n",
       "\\toprule\n",
       "\\textbf{Dep. Variable:}    &      sales       & \\textbf{  R-squared:         } &     0.456   \\\\\n",
       "\\textbf{Model:}            &       OLS        & \\textbf{  Adj. R-squared:    } &     0.448   \\\\\n",
       "\\textbf{Method:}           &  Least Squares   & \\textbf{  F-statistic:       } &     57.27   \\\\\n",
       "\\textbf{Date:}             & Fri, 24 May 2024 & \\textbf{  Prob (F-statistic):} &  6.21e-27   \\\\\n",
       "\\textbf{Time:}             &     19:29:24     & \\textbf{  Log-Likelihood:    } &   -3955.9   \\\\\n",
       "\\textbf{No. Observations:} &         209      & \\textbf{  AIC:               } &     7920.   \\\\\n",
       "\\textbf{Df Residuals:}     &         205      & \\textbf{  BIC:               } &     7933.   \\\\\n",
       "\\textbf{Df Model:}         &           3      & \\textbf{                     } &             \\\\\n",
       "\\textbf{Covariance Type:}  &    nonrobust     & \\textbf{                     } &             \\\\\n",
       "\\bottomrule\n",
       "\\end{tabular}\n",
       "\\begin{tabular}{lcccccc}\n",
       "                     & \\textbf{coef} & \\textbf{std err} & \\textbf{t} & \\textbf{P$> |$t$|$} & \\textbf{[0.025} & \\textbf{0.975]}  \\\\\n",
       "\\midrule\n",
       "\\textbf{const}       &    6.679e+07  &     7.24e+06     &     9.225  &         0.000        &     5.25e+07    &     8.11e+07     \\\\\n",
       "\\textbf{mdsp\\_vidtr} &     194.5686  &       22.564     &     8.623  &         0.000        &      150.082    &      239.055     \\\\\n",
       "\\textbf{mdsp\\_on}    &      74.3041  &       27.124     &     2.739  &         0.007        &       20.826    &      127.782     \\\\\n",
       "\\textbf{mdsp\\_audtr} &     -61.0892  &       49.578     &    -1.232  &         0.219        &     -158.837    &       36.659     \\\\\n",
       "\\bottomrule\n",
       "\\end{tabular}\n",
       "\\begin{tabular}{lclc}\n",
       "\\textbf{Omnibus:}       & 43.666 & \\textbf{  Durbin-Watson:     } &    2.154  \\\\\n",
       "\\textbf{Prob(Omnibus):} &  0.000 & \\textbf{  Jarque-Bera (JB):  } &   92.168  \\\\\n",
       "\\textbf{Skew:}          &  0.986 & \\textbf{  Prob(JB):          } & 9.68e-21  \\\\\n",
       "\\textbf{Kurtosis:}      &  5.588 & \\textbf{  Cond. No.          } & 9.01e+05  \\\\\n",
       "\\bottomrule\n",
       "\\end{tabular}\n",
       "%\\caption{OLS Regression Results}\n",
       "\\end{center}\n",
       "\n",
       "Notes: \\newline\n",
       " [1] Standard Errors assume that the covariance matrix of the errors is correctly specified. \\newline\n",
       " [2] The condition number is large, 9.01e+05. This might indicate that there are \\newline\n",
       " strong multicollinearity or other numerical problems."
      ],
      "text/plain": [
       "<class 'statsmodels.iolib.summary.Summary'>\n",
       "\"\"\"\n",
       "                            OLS Regression Results                            \n",
       "==============================================================================\n",
       "Dep. Variable:                  sales   R-squared:                       0.456\n",
       "Model:                            OLS   Adj. R-squared:                  0.448\n",
       "Method:                 Least Squares   F-statistic:                     57.27\n",
       "Date:                Fri, 24 May 2024   Prob (F-statistic):           6.21e-27\n",
       "Time:                        19:29:24   Log-Likelihood:                -3955.9\n",
       "No. Observations:                 209   AIC:                             7920.\n",
       "Df Residuals:                     205   BIC:                             7933.\n",
       "Df Model:                           3                                         \n",
       "Covariance Type:            nonrobust                                         \n",
       "==============================================================================\n",
       "                 coef    std err          t      P>|t|      [0.025      0.975]\n",
       "------------------------------------------------------------------------------\n",
       "const       6.679e+07   7.24e+06      9.225      0.000    5.25e+07    8.11e+07\n",
       "mdsp_vidtr   194.5686     22.564      8.623      0.000     150.082     239.055\n",
       "mdsp_on       74.3041     27.124      2.739      0.007      20.826     127.782\n",
       "mdsp_audtr   -61.0892     49.578     -1.232      0.219    -158.837      36.659\n",
       "==============================================================================\n",
       "Omnibus:                       43.666   Durbin-Watson:                   2.154\n",
       "Prob(Omnibus):                  0.000   Jarque-Bera (JB):               92.168\n",
       "Skew:                           0.986   Prob(JB):                     9.68e-21\n",
       "Kurtosis:                       5.588   Cond. No.                     9.01e+05\n",
       "==============================================================================\n",
       "\n",
       "Notes:\n",
       "[1] Standard Errors assume that the covariance matrix of the errors is correctly specified.\n",
       "[2] The condition number is large, 9.01e+05. This might indicate that there are\n",
       "strong multicollinearity or other numerical problems.\n",
       "\"\"\""
      ]
     },
     "execution_count": 4,
     "metadata": {},
     "output_type": "execute_result"
    }
   ],
   "source": [
    "model = sm.OLS(y, X).fit()\n",
    "model.summary()"
   ]
  },
  {
   "cell_type": "markdown",
   "id": "95470449",
   "metadata": {},
   "source": [
    "## Model Evaluation"
   ]
  },
  {
   "cell_type": "code",
   "execution_count": 5,
   "id": "d05bc034",
   "metadata": {},
   "outputs": [
    {
     "name": "stdout",
     "output_type": "stream",
     "text": [
      "R-squared: 0.45596815441052385\n"
     ]
    }
   ],
   "source": [
    "r_squared = model.rsquared\n",
    "print(f\"R-squared: {r_squared}\")"
   ]
  },
  {
   "cell_type": "markdown",
   "id": "6302aac7",
   "metadata": {},
   "source": [
    "Attribution Analysis"
   ]
  },
  {
   "cell_type": "markdown",
   "id": "133ca8f6",
   "metadata": {},
   "source": [
    "coefficients = model.params: This line retrieves the coefficients (also known as parameter estimates) of our regression model and stores them in the variable coefficients"
   ]
  },
  {
   "cell_type": "code",
   "execution_count": 6,
   "id": "1a781972",
   "metadata": {},
   "outputs": [
    {
     "name": "stdout",
     "output_type": "stream",
     "text": [
      "Model Coefficients:\n",
      "const         6.678621e+07\n",
      "mdsp_vidtr    1.945686e+02\n",
      "mdsp_on       7.430407e+01\n",
      "mdsp_audtr   -6.108916e+01\n",
      "dtype: float64\n"
     ]
    }
   ],
   "source": [
    "coefficients = model.params\n",
    "print(\"Model Coefficients:\")\n",
    "print(coefficients)"
   ]
  },
  {
   "cell_type": "markdown",
   "id": "f31c7a87",
   "metadata": {},
   "source": [
    "## Budget Optimization"
   ]
  },
  {
   "cell_type": "code",
   "execution_count": 7,
   "id": "38a5de9f",
   "metadata": {},
   "outputs": [],
   "source": [
    "total_budget = 1000000  # Total advertising budget for a period\n",
    "allocation_weights = [0.4, 0.3, 0.3]  # Allocation weights for TV, Online, and Radio\n",
    "budget_allocation = [w * total_budget for w in allocation_weights] #  This line calculates the actual budget allocation for each advertising channel. It multiplies each allocation weight by the total budget to determine how much money should be spent on each channel.\n",
    "#budget_allocation = [400000.0, 300000.0, 300000.0]"
   ]
  },
  {
   "cell_type": "markdown",
   "id": "a47bbbfb",
   "metadata": {},
   "source": [
    "## Forecasting"
   ]
  },
  {
   "cell_type": "markdown",
   "id": "efe366c6",
   "metadata": {},
   "source": [
    "This line sets up a list called new_advertising_spend with the anticipated spending for the next month on three advertising channelscreates a new dataset called new_data. It’s structured like our original data but with the anticipated spending values for the next month. The ‘const’ column is added with a value of 1 to account for the baseline\n",
    "\n",
    "Here, we’re using our previously trained regression model (model) to predict sales based on the anticipated advertising spending for the next month. The predict function takes new_data as input and calculates the expected sales"
   ]
  },
  {
   "cell_type": "code",
   "execution_count": 8,
   "id": "07f7a397",
   "metadata": {},
   "outputs": [
    {
     "name": "stdout",
     "output_type": "stream",
     "text": [
      "Budget Allocation: [400000.0, 300000.0, 300000.0]\n",
      "Predicted Sales: 4007180768677.104\n"
     ]
    }
   ],
   "source": [
    "# Predict next month's sales based on anticipated advertising spend\n",
    "new_advertising_spend = [60000, 35000, 17000]  # Anticipated spend for the next month\n",
    "new_data = pd.DataFrame({'TV_spend': [new_advertising_spend[0]],\n",
    "                         'Online_spend': [new_advertising_spend[1]],\n",
    "                         'Radio_spend': [new_advertising_spend[2]],\n",
    "                         'const': [1]})  # Include a constant for forecasting\n",
    "predicted_sales = model.predict(new_data)\n",
    "\n",
    "# Print results\n",
    "print(f\"Budget Allocation: {budget_allocation}\")\n",
    "print(f\"Predicted Sales: {predicted_sales[0]}\")\n",
    "\n",
    "# Budget Allocation: [400000.0, 300000.0, 300000.0]\n",
    "# Predicted Sales: 4007180768773.236"
   ]
  },
  {
   "cell_type": "code",
   "execution_count": null,
   "id": "ca2539c8",
   "metadata": {},
   "outputs": [],
   "source": []
  }
 ],
 "metadata": {
  "kernelspec": {
   "display_name": "Python 3 (ipykernel)",
   "language": "python",
   "name": "python3"
  },
  "language_info": {
   "codemirror_mode": {
    "name": "ipython",
    "version": 3
   },
   "file_extension": ".py",
   "mimetype": "text/x-python",
   "name": "python",
   "nbconvert_exporter": "python",
   "pygments_lexer": "ipython3",
   "version": "3.11.5"
  }
 },
 "nbformat": 4,
 "nbformat_minor": 5
}
